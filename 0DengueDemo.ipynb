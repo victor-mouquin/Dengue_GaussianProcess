{
 "cells": [
  {
   "cell_type": "code",
   "execution_count": 1,
   "metadata": {},
   "outputs": [],
   "source": [
    "import numpy as np\n",
    "import matplotlib.pyplot as plt\n",
    "import pandas as pd"
   ]
  },
  {
   "cell_type": "code",
   "execution_count": 2,
   "metadata": {},
   "outputs": [],
   "source": [
    "# My own code for this project. \n",
    "from Kernel import *"
   ]
  },
  {
   "cell_type": "markdown",
   "metadata": {},
   "source": [
    "## Problem description and dataset"
   ]
  },
  {
   "cell_type": "markdown",
   "metadata": {},
   "source": [
    "The following data set comes from a competition hosted on DrivenData. One must predict the number of dengue fever cases every week, based on a number of climate variables, such as humidity, temperature, precipitation, etc. See <br />\n",
    "https://www.drivendata.org/competitions/44/dengai-predicting-disease-spread/\n",
    "\n",
    "There are two cities, for which one must predict the number of cases: San Juan, Puerto Rico, and Iquitos, Peru. Here is what the data set look like. "
   ]
  },
  {
   "cell_type": "code",
   "execution_count": 3,
   "metadata": {},
   "outputs": [
    {
     "data": {
      "text/html": [
       "<div>\n",
       "<style scoped>\n",
       "    .dataframe tbody tr th:only-of-type {\n",
       "        vertical-align: middle;\n",
       "    }\n",
       "\n",
       "    .dataframe tbody tr th {\n",
       "        vertical-align: top;\n",
       "    }\n",
       "\n",
       "    .dataframe thead tr th {\n",
       "        text-align: left;\n",
       "    }\n",
       "\n",
       "    .dataframe thead tr:last-of-type th {\n",
       "        text-align: right;\n",
       "    }\n",
       "</style>\n",
       "<table border=\"1\" class=\"dataframe\">\n",
       "  <thead>\n",
       "    <tr>\n",
       "      <th></th>\n",
       "      <th>features</th>\n",
       "      <th colspan=\"4\" halign=\"left\">vegetation</th>\n",
       "      <th>precipit_mm</th>\n",
       "      <th colspan=\"2\" halign=\"left\">avg_temp_c</th>\n",
       "      <th>reanalysis_dew_point_temp_c</th>\n",
       "      <th>max_temp_c</th>\n",
       "      <th>min_temp_c</th>\n",
       "      <th>...</th>\n",
       "      <th>reanalysis_relative_humidity_percent</th>\n",
       "      <th>reanalysis_specific_humidity_g_per_kg</th>\n",
       "      <th>diur_temp_rng_c</th>\n",
       "      <th>avg_temp_c</th>\n",
       "      <th>diur_temp_rng_c</th>\n",
       "      <th>max_temp_c</th>\n",
       "      <th>min_temp_c</th>\n",
       "      <th>precipit_mm</th>\n",
       "      <th>labels</th>\n",
       "      <th>week_number</th>\n",
       "    </tr>\n",
       "    <tr>\n",
       "      <th></th>\n",
       "      <th>measurements</th>\n",
       "      <th>ndvi_ne</th>\n",
       "      <th>ndvi_nw</th>\n",
       "      <th>ndvi_se</th>\n",
       "      <th>ndvi_sw</th>\n",
       "      <th>precipitation_amt_mm</th>\n",
       "      <th>reanalysis_air_temp_c</th>\n",
       "      <th>reanalysis_avg_temp_c</th>\n",
       "      <th>reanalysis_dew_point_temp_c</th>\n",
       "      <th>reanalysis_max_air_temp_c</th>\n",
       "      <th>reanalysis_min_air_temp_c</th>\n",
       "      <th>...</th>\n",
       "      <th>reanalysis_relative_humidity_percent</th>\n",
       "      <th>reanalysis_specific_humidity_g_per_kg</th>\n",
       "      <th>reanalysis_tdtr_k</th>\n",
       "      <th>station_avg_temp_c</th>\n",
       "      <th>station_diur_temp_rng_c</th>\n",
       "      <th>station_max_temp_c</th>\n",
       "      <th>station_min_temp_c</th>\n",
       "      <th>station_precip_mm</th>\n",
       "      <th></th>\n",
       "      <th></th>\n",
       "    </tr>\n",
       "    <tr>\n",
       "      <th>year</th>\n",
       "      <th>weekofyear</th>\n",
       "      <th></th>\n",
       "      <th></th>\n",
       "      <th></th>\n",
       "      <th></th>\n",
       "      <th></th>\n",
       "      <th></th>\n",
       "      <th></th>\n",
       "      <th></th>\n",
       "      <th></th>\n",
       "      <th></th>\n",
       "      <th></th>\n",
       "      <th></th>\n",
       "      <th></th>\n",
       "      <th></th>\n",
       "      <th></th>\n",
       "      <th></th>\n",
       "      <th></th>\n",
       "      <th></th>\n",
       "      <th></th>\n",
       "      <th></th>\n",
       "      <th></th>\n",
       "    </tr>\n",
       "  </thead>\n",
       "  <tbody>\n",
       "    <tr>\n",
       "      <th>1997</th>\n",
       "      <th>21</th>\n",
       "      <td>0.07980</td>\n",
       "      <td>0.106533</td>\n",
       "      <td>0.159033</td>\n",
       "      <td>0.098733</td>\n",
       "      <td>0.00</td>\n",
       "      <td>26.091429</td>\n",
       "      <td>26.235714</td>\n",
       "      <td>21.511429</td>\n",
       "      <td>27.95</td>\n",
       "      <td>24.65</td>\n",
       "      <td>...</td>\n",
       "      <td>75.982857</td>\n",
       "      <td>15.997143</td>\n",
       "      <td>2.428571</td>\n",
       "      <td>27.585714</td>\n",
       "      <td>7.085714</td>\n",
       "      <td>32.2</td>\n",
       "      <td>23.9</td>\n",
       "      <td>12.9</td>\n",
       "      <td>3</td>\n",
       "      <td>367.0</td>\n",
       "    </tr>\n",
       "    <tr>\n",
       "      <th>2007</th>\n",
       "      <th>7</th>\n",
       "      <td>-0.07520</td>\n",
       "      <td>-0.071940</td>\n",
       "      <td>0.243943</td>\n",
       "      <td>0.192314</td>\n",
       "      <td>0.00</td>\n",
       "      <td>25.294286</td>\n",
       "      <td>25.435714</td>\n",
       "      <td>20.677143</td>\n",
       "      <td>28.25</td>\n",
       "      <td>22.65</td>\n",
       "      <td>...</td>\n",
       "      <td>75.754286</td>\n",
       "      <td>15.184286</td>\n",
       "      <td>3.457143</td>\n",
       "      <td>26.157143</td>\n",
       "      <td>7.600000</td>\n",
       "      <td>32.2</td>\n",
       "      <td>21.1</td>\n",
       "      <td>0.3</td>\n",
       "      <td>14</td>\n",
       "      <td>873.0</td>\n",
       "    </tr>\n",
       "    <tr>\n",
       "      <th>2001</th>\n",
       "      <th>19</th>\n",
       "      <td>0.03710</td>\n",
       "      <td>0.070500</td>\n",
       "      <td>0.047814</td>\n",
       "      <td>0.063743</td>\n",
       "      <td>59.89</td>\n",
       "      <td>26.268571</td>\n",
       "      <td>26.350000</td>\n",
       "      <td>22.215714</td>\n",
       "      <td>28.85</td>\n",
       "      <td>24.25</td>\n",
       "      <td>...</td>\n",
       "      <td>78.567143</td>\n",
       "      <td>16.771429</td>\n",
       "      <td>3.200000</td>\n",
       "      <td>27.485714</td>\n",
       "      <td>7.057143</td>\n",
       "      <td>32.2</td>\n",
       "      <td>22.8</td>\n",
       "      <td>64.3</td>\n",
       "      <td>13</td>\n",
       "      <td>573.0</td>\n",
       "    </tr>\n",
       "    <tr>\n",
       "      <th>2006</th>\n",
       "      <th>29</th>\n",
       "      <td>0.04735</td>\n",
       "      <td>0.028167</td>\n",
       "      <td>0.196686</td>\n",
       "      <td>0.161543</td>\n",
       "      <td>16.61</td>\n",
       "      <td>27.094286</td>\n",
       "      <td>27.071429</td>\n",
       "      <td>23.437143</td>\n",
       "      <td>29.15</td>\n",
       "      <td>25.15</td>\n",
       "      <td>...</td>\n",
       "      <td>80.538571</td>\n",
       "      <td>18.011429</td>\n",
       "      <td>2.557143</td>\n",
       "      <td>27.485714</td>\n",
       "      <td>6.471429</td>\n",
       "      <td>31.7</td>\n",
       "      <td>22.8</td>\n",
       "      <td>36.8</td>\n",
       "      <td>14</td>\n",
       "      <td>843.0</td>\n",
       "    </tr>\n",
       "    <tr>\n",
       "      <th>2005</th>\n",
       "      <th>21</th>\n",
       "      <td>0.04760</td>\n",
       "      <td>0.067350</td>\n",
       "      <td>0.096600</td>\n",
       "      <td>0.087314</td>\n",
       "      <td>156.94</td>\n",
       "      <td>26.655714</td>\n",
       "      <td>26.885714</td>\n",
       "      <td>23.750000</td>\n",
       "      <td>29.85</td>\n",
       "      <td>23.95</td>\n",
       "      <td>...</td>\n",
       "      <td>84.335714</td>\n",
       "      <td>18.485714</td>\n",
       "      <td>3.071429</td>\n",
       "      <td>28.385714</td>\n",
       "      <td>6.657143</td>\n",
       "      <td>35.0</td>\n",
       "      <td>23.9</td>\n",
       "      <td>71.2</td>\n",
       "      <td>4</td>\n",
       "      <td>783.0</td>\n",
       "    </tr>\n",
       "  </tbody>\n",
       "</table>\n",
       "<p>5 rows × 21 columns</p>\n",
       "</div>"
      ],
      "text/plain": [
       "features        vegetation                                        precipit_mm  \\\n",
       "measurements       ndvi_ne   ndvi_nw   ndvi_se   ndvi_sw precipitation_amt_mm   \n",
       "year weekofyear                                                                 \n",
       "1997 21            0.07980  0.106533  0.159033  0.098733                 0.00   \n",
       "2007 7            -0.07520 -0.071940  0.243943  0.192314                 0.00   \n",
       "2001 19            0.03710  0.070500  0.047814  0.063743                59.89   \n",
       "2006 29            0.04735  0.028167  0.196686  0.161543                16.61   \n",
       "2005 21            0.04760  0.067350  0.096600  0.087314               156.94   \n",
       "\n",
       "features                   avg_temp_c                        \\\n",
       "measurements    reanalysis_air_temp_c reanalysis_avg_temp_c   \n",
       "year weekofyear                                               \n",
       "1997 21                     26.091429             26.235714   \n",
       "2007 7                      25.294286             25.435714   \n",
       "2001 19                     26.268571             26.350000   \n",
       "2006 29                     27.094286             27.071429   \n",
       "2005 21                     26.655714             26.885714   \n",
       "\n",
       "features        reanalysis_dew_point_temp_c                max_temp_c  \\\n",
       "measurements    reanalysis_dew_point_temp_c reanalysis_max_air_temp_c   \n",
       "year weekofyear                                                         \n",
       "1997 21                           21.511429                     27.95   \n",
       "2007 7                            20.677143                     28.25   \n",
       "2001 19                           22.215714                     28.85   \n",
       "2006 29                           23.437143                     29.15   \n",
       "2005 21                           23.750000                     29.85   \n",
       "\n",
       "features                       min_temp_c  ...  \\\n",
       "measurements    reanalysis_min_air_temp_c  ...   \n",
       "year weekofyear                            ...   \n",
       "1997 21                             24.65  ...   \n",
       "2007 7                              22.65  ...   \n",
       "2001 19                             24.25  ...   \n",
       "2006 29                             25.15  ...   \n",
       "2005 21                             23.95  ...   \n",
       "\n",
       "features        reanalysis_relative_humidity_percent  \\\n",
       "measurements    reanalysis_relative_humidity_percent   \n",
       "year weekofyear                                        \n",
       "1997 21                                    75.982857   \n",
       "2007 7                                     75.754286   \n",
       "2001 19                                    78.567143   \n",
       "2006 29                                    80.538571   \n",
       "2005 21                                    84.335714   \n",
       "\n",
       "features        reanalysis_specific_humidity_g_per_kg   diur_temp_rng_c  \\\n",
       "measurements    reanalysis_specific_humidity_g_per_kg reanalysis_tdtr_k   \n",
       "year weekofyear                                                           \n",
       "1997 21                                     15.997143          2.428571   \n",
       "2007 7                                      15.184286          3.457143   \n",
       "2001 19                                     16.771429          3.200000   \n",
       "2006 29                                     18.011429          2.557143   \n",
       "2005 21                                     18.485714          3.071429   \n",
       "\n",
       "features                avg_temp_c         diur_temp_rng_c         max_temp_c  \\\n",
       "measurements    station_avg_temp_c station_diur_temp_rng_c station_max_temp_c   \n",
       "year weekofyear                                                                 \n",
       "1997 21                  27.585714                7.085714               32.2   \n",
       "2007 7                   26.157143                7.600000               32.2   \n",
       "2001 19                  27.485714                7.057143               32.2   \n",
       "2006 29                  27.485714                6.471429               31.7   \n",
       "2005 21                  28.385714                6.657143               35.0   \n",
       "\n",
       "features                min_temp_c       precipit_mm labels week_number  \n",
       "measurements    station_min_temp_c station_precip_mm                     \n",
       "year weekofyear                                                          \n",
       "1997 21                       23.9              12.9      3       367.0  \n",
       "2007 7                        21.1               0.3     14       873.0  \n",
       "2001 19                       22.8              64.3     13       573.0  \n",
       "2006 29                       22.8              36.8     14       843.0  \n",
       "2005 21                       23.9              71.2      4       783.0  \n",
       "\n",
       "[5 rows x 21 columns]"
      ]
     },
     "execution_count": 3,
     "metadata": {},
     "output_type": "execute_result"
    }
   ],
   "source": [
    "city = 'sj'\n",
    "Xy = pd.read_pickle(\"Xy_\" + city +\".pkl\")\n",
    "Xy.sample(5)"
   ]
  },
  {
   "cell_type": "code",
   "execution_count": 4,
   "metadata": {},
   "outputs": [
    {
     "data": {
      "text/plain": [
       "19"
      ]
     },
     "execution_count": 4,
     "metadata": {},
     "output_type": "execute_result"
    }
   ],
   "source": [
    "features = list(Xy.columns)\n",
    "del features[-2:]\n",
    "d = len(features)\n",
    "d"
   ]
  },
  {
   "cell_type": "code",
   "execution_count": 5,
   "metadata": {},
   "outputs": [
    {
     "name": "stdout",
     "output_type": "stream",
     "text": [
      "Columns are different measurements of the following climate variables:\n",
      "avg_temp_c\n",
      "diur_temp_rng_c\n",
      "labels\n",
      "max_temp_c\n",
      "min_temp_c\n",
      "precipit_mm\n",
      "reanalysis_dew_point_temp_c\n",
      "reanalysis_precip_amt_kg_per_m2\n",
      "reanalysis_relative_humidity_percent\n",
      "reanalysis_specific_humidity_g_per_kg\n",
      "vegetation\n",
      "week_number\n"
     ]
    }
   ],
   "source": [
    "print('Columns are different measurements of the following climate variables:')\n",
    "for f in sorted(set(Xy.columns.get_level_values(0))):\n",
    "    print(f)"
   ]
  },
  {
   "cell_type": "markdown",
   "metadata": {},
   "source": [
    "## Modelling"
   ]
  },
  {
   "cell_type": "markdown",
   "metadata": {},
   "source": [
    "Looking at the data, it is apparent that cases of dengue fever exhibit a periodicity. "
   ]
  },
  {
   "cell_type": "code",
   "execution_count": 6,
   "metadata": {},
   "outputs": [],
   "source": [
    "cases = Xy['labels']"
   ]
  },
  {
   "cell_type": "code",
   "execution_count": 7,
   "metadata": {},
   "outputs": [
    {
     "data": {
      "image/png": "[encoded data removed]",
      "text/plain": [
       "<matplotlib.figure.Figure at 0x11496b828>"
      ]
     },
     "metadata": {},
     "output_type": "display_data"
    }
   ],
   "source": [
    "years = set(cases.index.get_level_values(0))\n",
    "plt.rcParams['figure.figsize'] = [12, 7]\n",
    "plt.xlabel('weeks of year')\n",
    "plt.ylabel('cases of dengue fever')\n",
    "plt.title('Total cases for every year in '+ city)\n",
    "for year in years:\n",
    "    plt.scatter(cases.loc[year].index, cases.loc[(year,)])\n",
    "\n",
    "plt.legend([str(year) for year in years])\n",
    "plt.show()"
   ]
  },
  {
   "cell_type": "markdown",
   "metadata": {},
   "source": [
    "There seems to be a yearly periodicity, hence the average number of cases per week can be taken as a baseline model. "
   ]
  },
  {
   "cell_type": "code",
   "execution_count": 8,
   "metadata": {},
   "outputs": [
    {
     "data": {
      "image/png": "[encoded data removed]",
      "text/plain": [
       "<matplotlib.figure.Figure at 0x114a867b8>"
      ]
     },
     "metadata": {},
     "output_type": "display_data"
    }
   ],
   "source": [
    "cases_by_week = cases.groupby(cases.index.get_level_values(1)) #group by week of year\n",
    "avg_cases = cases_by_week.aggregate(np.mean) # average tot_case for any given week\n",
    "plt.rcParams['figure.figsize'] = [12, 5]\n",
    "plt.xlabel('Week of year')\n",
    "plt.ylabel('Cases per week')\n",
    "plt.title('Average cases per week of year in '+city)\n",
    "plt.scatter(avg_cases.index, avg_cases)\n",
    "plt.show()"
   ]
  },
  {
   "cell_type": "markdown",
   "metadata": {},
   "source": [
    "As the number of dengue fever case is inherently a probabilistic phenomenon, it is natural to use baysian inference to study it, and model denge fever cases as a Gaussian process. This idea is not new, here is a [paper](https://arxiv.org/abs/1608.03343) also using this approach. "
   ]
  },
  {
   "cell_type": "markdown",
   "metadata": {},
   "source": [
    "To take into account this periodicity, as well as the climate features, the kernel function I have been using for the Gaussian process is the following. Let $x_i$ be the climate variables recorded during week $i$ (counted from the first week in the database). Define \n",
    "$$\n",
    "k(x_i, x_j) = \\sigma_{time}^2 k_{time}(i, j) + \\sigma_{per}^2 k_{per}(i, j) + \\sigma_{cli}^2 k_{cli}(x_i, x_k),\n",
    "$$\n",
    "where"
   ]
  },
  {
   "cell_type": "markdown",
   "metadata": {},
   "source": [
    "$$\n",
    "k_{time}(i, j) = m \\left(\\frac{|i-j|}{l_{time}}\\right), \\hspace{.5in} m(t) = (1+ \\sqrt{5}t + 5/3 t^2) e^{-\\sqrt{5}t},\n",
    "$$\n",
    "enforces the assumption that nearby weeks should be correlated;"
   ]
  },
  {
   "cell_type": "markdown",
   "metadata": {},
   "source": [
    "$$\n",
    "k_{per}(i, j) = m \\left(\\frac{|i-j|}{l_{mat}}\\right) \\exp \\left(\\frac{-2}{l_{per}^2}\\sin^2 \\left(\\pi \\frac{|i-j|}{p}\\right) \\right)\n",
    "$$\n",
    "models the periodicity observed in dengue fever cases;"
   ]
  },
  {
   "cell_type": "markdown",
   "metadata": {},
   "source": [
    "$$\n",
    "k_{cli}(x_i, x_k) = \\exp \\left( \\sum_{d=1}^D l_d^2 \\; (x_i(d) - x_j(d))^2 \\right)\n",
    "$$\n",
    "ensures that week with similar climate variables must be correlated. "
   ]
  },
  {
   "cell_type": "code",
   "execution_count": 10,
   "metadata": {},
   "outputs": [],
   "source": [
    "n_time = 4 # parameters in k_time and k_per\n",
    "n_sig2 = 3 # weight of each kernel component\n",
    "n = n_time + n_sig2 + d"
   ]
  },
  {
   "cell_type": "markdown",
   "metadata": {},
   "source": [
    "## Training"
   ]
  },
  {
   "cell_type": "markdown",
   "metadata": {},
   "source": [
    "Fitting the parameters to minimize the log-likelihood. "
   ]
  },
  {
   "cell_type": "code",
   "execution_count": 11,
   "metadata": {},
   "outputs": [],
   "source": [
    "Xy = Xy.loc[1999:2004] # Using a smaller subset of the whole data set. \n",
    "from sklearn.model_selection import train_test_split\n",
    "Xy_train, Xy_test = train_test_split(Xy, train_size=0.7,test_size=0.3, shuffle = False)"
   ]
  },
  {
   "cell_type": "code",
   "execution_count": 12,
   "metadata": {},
   "outputs": [],
   "source": [
    "X, Y, gamma = fitting_preprocess(Xy_train, features) \n",
    "Xs = fitting_preprocess(Xy_test, features)[0]\n",
    "X_tot = fitting_preprocess(Xy, features)[0]\n",
    "Y_test = Xy_test[[('labels', '')]].values\n",
    "Y_train = Xy_train[[('labels', '')]].values"
   ]
  },
  {
   "cell_type": "markdown",
   "metadata": {},
   "source": [
    "#### Baseline model"
   ]
  },
  {
   "cell_type": "code",
   "execution_count": 13,
   "metadata": {},
   "outputs": [],
   "source": [
    "#Baseline model (averages of cases per week)\n",
    "Y_base = pd.Series(index = Xy_test.index)\n",
    "for year, week in Y_base.index:\n",
    "    Y_base[(year, week)] = avg_cases[week]"
   ]
  },
  {
   "cell_type": "markdown",
   "metadata": {},
   "source": [
    "Starting from previously recorded optimal parameters to speed up the minimizing process. "
   ]
  },
  {
   "cell_type": "code",
   "execution_count": 14,
   "metadata": {},
   "outputs": [
    {
     "data": {
      "text/html": [
       "<div>\n",
       "<style scoped>\n",
       "    .dataframe tbody tr th:only-of-type {\n",
       "        vertical-align: middle;\n",
       "    }\n",
       "\n",
       "    .dataframe tbody tr th {\n",
       "        vertical-align: top;\n",
       "    }\n",
       "\n",
       "    .dataframe thead th {\n",
       "        text-align: right;\n",
       "    }\n",
       "</style>\n",
       "<table border=\"1\" class=\"dataframe\">\n",
       "  <thead>\n",
       "    <tr style=\"text-align: right;\">\n",
       "      <th></th>\n",
       "      <th>l_mat</th>\n",
       "      <th>l_mat2</th>\n",
       "      <th>p</th>\n",
       "      <th>l_per</th>\n",
       "      <th>sig2_mat</th>\n",
       "      <th>sig2_per</th>\n",
       "      <th>sig2_met</th>\n",
       "      <th>l2_ndvi_ne</th>\n",
       "      <th>l2_ndvi_nw</th>\n",
       "      <th>l2_ndvi_se</th>\n",
       "      <th>...</th>\n",
       "      <th>l2_reanalysis_tdtr_k</th>\n",
       "      <th>l2_station_avg_temp_c</th>\n",
       "      <th>l2_station_diur_temp_rng_c</th>\n",
       "      <th>l2_station_max_temp_c</th>\n",
       "      <th>l2_station_min_temp_c</th>\n",
       "      <th>l2_station_precip_mm</th>\n",
       "      <th>training_set</th>\n",
       "      <th>testing_set</th>\n",
       "      <th>score</th>\n",
       "      <th>remarks</th>\n",
       "    </tr>\n",
       "  </thead>\n",
       "  <tbody>\n",
       "    <tr>\n",
       "      <th>7</th>\n",
       "      <td>9.255868</td>\n",
       "      <td>499.965723</td>\n",
       "      <td>52.013168</td>\n",
       "      <td>1.265100</td>\n",
       "      <td>0.358288</td>\n",
       "      <td>0.644478</td>\n",
       "      <td>0.00001</td>\n",
       "      <td>1.878305</td>\n",
       "      <td>1.119254</td>\n",
       "      <td>1.988075</td>\n",
       "      <td>...</td>\n",
       "      <td>1.768296</td>\n",
       "      <td>1.071068</td>\n",
       "      <td>1.084255</td>\n",
       "      <td>1.634136</td>\n",
       "      <td>1.444107</td>\n",
       "      <td>1.710407</td>\n",
       "      <td>2005:2009, 0.8</td>\n",
       "      <td>2005:2009, 0.2</td>\n",
       "      <td>0.447104</td>\n",
       "      <td>shuffle, iquitos</td>\n",
       "    </tr>\n",
       "    <tr>\n",
       "      <th>8</th>\n",
       "      <td>18.301442</td>\n",
       "      <td>499.720484</td>\n",
       "      <td>53.137365</td>\n",
       "      <td>3.212954</td>\n",
       "      <td>0.645613</td>\n",
       "      <td>2.770228</td>\n",
       "      <td>0.00001</td>\n",
       "      <td>1.597245</td>\n",
       "      <td>1.112004</td>\n",
       "      <td>1.393452</td>\n",
       "      <td>...</td>\n",
       "      <td>1.961334</td>\n",
       "      <td>1.798895</td>\n",
       "      <td>1.807736</td>\n",
       "      <td>1.920370</td>\n",
       "      <td>1.025214</td>\n",
       "      <td>1.982668</td>\n",
       "      <td>1998:2005, 0.7</td>\n",
       "      <td>1998:2005, 0.3</td>\n",
       "      <td>-0.148030</td>\n",
       "      <td>shuffle, sj</td>\n",
       "    </tr>\n",
       "    <tr>\n",
       "      <th>9</th>\n",
       "      <td>35.040531</td>\n",
       "      <td>499.910082</td>\n",
       "      <td>52.600084</td>\n",
       "      <td>3.149646</td>\n",
       "      <td>0.873746</td>\n",
       "      <td>2.209523</td>\n",
       "      <td>0.00001</td>\n",
       "      <td>1.985395</td>\n",
       "      <td>1.215838</td>\n",
       "      <td>1.898725</td>\n",
       "      <td>...</td>\n",
       "      <td>1.332265</td>\n",
       "      <td>1.138713</td>\n",
       "      <td>1.028104</td>\n",
       "      <td>1.549585</td>\n",
       "      <td>1.420323</td>\n",
       "      <td>1.579052</td>\n",
       "      <td>1999:2004, 0.7</td>\n",
       "      <td>1999:2004, 0.3</td>\n",
       "      <td>0.432073</td>\n",
       "      <td>shuffle, sj</td>\n",
       "    </tr>\n",
       "  </tbody>\n",
       "</table>\n",
       "<p>3 rows × 30 columns</p>\n",
       "</div>"
      ],
      "text/plain": [
       "       l_mat      l_mat2          p     l_per  sig2_mat  sig2_per  sig2_met  \\\n",
       "7   9.255868  499.965723  52.013168  1.265100  0.358288  0.644478   0.00001   \n",
       "8  18.301442  499.720484  53.137365  3.212954  0.645613  2.770228   0.00001   \n",
       "9  35.040531  499.910082  52.600084  3.149646  0.873746  2.209523   0.00001   \n",
       "\n",
       "   l2_ndvi_ne  l2_ndvi_nw  l2_ndvi_se  ...  l2_reanalysis_tdtr_k  \\\n",
       "7    1.878305    1.119254    1.988075  ...              1.768296   \n",
       "8    1.597245    1.112004    1.393452  ...              1.961334   \n",
       "9    1.985395    1.215838    1.898725  ...              1.332265   \n",
       "\n",
       "   l2_station_avg_temp_c  l2_station_diur_temp_rng_c  l2_station_max_temp_c  \\\n",
       "7               1.071068                    1.084255               1.634136   \n",
       "8               1.798895                    1.807736               1.920370   \n",
       "9               1.138713                    1.028104               1.549585   \n",
       "\n",
       "   l2_station_min_temp_c  l2_station_precip_mm    training_set  \\\n",
       "7               1.444107              1.710407  2005:2009, 0.8   \n",
       "8               1.025214              1.982668  1998:2005, 0.7   \n",
       "9               1.420323              1.579052  1999:2004, 0.7   \n",
       "\n",
       "      testing_set     score           remarks  \n",
       "7  2005:2009, 0.2  0.447104  shuffle, iquitos  \n",
       "8  1998:2005, 0.3 -0.148030       shuffle, sj  \n",
       "9  1999:2004, 0.3  0.432073       shuffle, sj  \n",
       "\n",
       "[3 rows x 30 columns]"
      ]
     },
     "execution_count": 14,
     "metadata": {},
     "output_type": "execute_result"
    }
   ],
   "source": [
    "opt_param = pd.read_pickle('opt_param.pkl')\n",
    "opt_param.tail(3)"
   ]
  },
  {
   "cell_type": "code",
   "execution_count": 15,
   "metadata": {},
   "outputs": [],
   "source": [
    "theta = opt_param.values[9,:-4].astype('float')\n",
    "#l2_time = np.array([30.0, 500.0, 52.0, 0.1])\n",
    "#l2_time = np.array([10.0, 100.0, 52.0, 0.1])\n",
    "#sig2 = np.ones(3)\n",
    "#l2_cli = 1+np.random.rand(d)\n",
    "#theta = np.hstack([l2_time, sig2, l2_cli])"
   ]
  },
  {
   "cell_type": "markdown",
   "metadata": {},
   "source": [
    "Using the SLSQP method in scipy.optimize to get the parameters minimizing the negative log-likelihood. "
   ]
  },
  {
   "cell_type": "code",
   "execution_count": null,
   "metadata": {},
   "outputs": [],
   "source": [
    "from scipy.optimize import minimize"
   ]
  },
  {
   "cell_type": "code",
   "execution_count": null,
   "metadata": {},
   "outputs": [],
   "source": [
    "%%time\n",
    "nll = nll_fn(X, Y, 0.2) \n",
    "bounds = [(1e-05, None) for i in range(n)]\n",
    "res = minimize(nll, theta, method='SLSQP', bounds = bounds, options = {'disp':True})"
   ]
  },
  {
   "cell_type": "code",
   "execution_count": null,
   "metadata": {},
   "outputs": [],
   "source": [
    "theta = res.x"
   ]
  },
  {
   "cell_type": "markdown",
   "metadata": {},
   "source": [
    "## Result"
   ]
  },
  {
   "cell_type": "code",
   "execution_count": 16,
   "metadata": {},
   "outputs": [],
   "source": [
    "Y_minus, Y_tot, Y_plus = Y_pred(X_tot, X, Y, gamma, theta, std_dev = True)\n",
    "X_tot[:,0].sort()"
   ]
  },
  {
   "cell_type": "code",
   "execution_count": 17,
   "metadata": {},
   "outputs": [
    {
     "data": {
      "image/png": "[encoded data removed]",
      "text/plain": [
       "<matplotlib.figure.Figure at 0x121c1b4e0>"
      ]
     },
     "metadata": {},
     "output_type": "display_data"
    }
   ],
   "source": [
    "years = Xy.index.get_level_values(0)\n",
    "plt.rcParams['figure.figsize'] = [18, 9]\n",
    "plt.xlabel('Week number')\n",
    "plt.ylabel('Weekly number of cases')\n",
    "plt.title('Dengue cases in '+ city + ' for ' + str(years[0]) + ' to ' + str(years[-1]))\n",
    "plt.fill_between(X_tot[:,0], Y_plus, Y_minus, label ='95% confidence interval',  alpha=0.5)\n",
    "plt.plot(X_tot[:,0], Y_tot, label = 'Prediction')\n",
    "plt.scatter(X[:,0], Y_train, label = 'Training data')\n",
    "plt.scatter(Xs[:,0], Y_test, label = 'Testing data')\n",
    "plt.scatter(Xs[:,0], Y_base, label = 'Baseline')\n",
    "plt.legend()\n",
    "plt.show()"
   ]
  },
  {
   "cell_type": "markdown",
   "metadata": {},
   "source": [
    "## Score of  model"
   ]
  },
  {
   "cell_type": "markdown",
   "metadata": {},
   "source": [
    "The score is a number $\\leq 1$ measuring how well the model generalizes to the testing data. "
   ]
  },
  {
   "cell_type": "markdown",
   "metadata": {},
   "source": [
    "$$\n",
    "{\\rm score} = 1- \\frac{\\sum (Y_{test} - Y_{pred})^2}{\\sum (Y_{test} - \\mu(Y_{test}))^2}, \n",
    "\\hspace{.5in} \\mu(Y_{test}) = {\\rm mean \\: of}\\: Y_{test}. \n",
    "$$"
   ]
  },
  {
   "cell_type": "markdown",
   "metadata": {},
   "source": [
    "Score of GP model"
   ]
  },
  {
   "cell_type": "code",
   "execution_count": 18,
   "metadata": {},
   "outputs": [
    {
     "data": {
      "text/plain": [
       "0.43207273089899145"
      ]
     },
     "execution_count": 18,
     "metadata": {},
     "output_type": "execute_result"
    }
   ],
   "source": [
    "Ys = Y_pred(Xs, X, Y, gamma, theta).reshape(-1,1)\n",
    "score(Y_test, Ys)"
   ]
  },
  {
   "cell_type": "markdown",
   "metadata": {},
   "source": [
    "Score of baseline model"
   ]
  },
  {
   "cell_type": "code",
   "execution_count": 19,
   "metadata": {},
   "outputs": [
    {
     "data": {
      "text/plain": [
       "-5.3226905963352049"
      ]
     },
     "execution_count": 19,
     "metadata": {},
     "output_type": "execute_result"
    }
   ],
   "source": [
    "Y_base = Y_base.values.reshape(-1,1)\n",
    "score(Y_test, Y_base)"
   ]
  },
  {
   "cell_type": "markdown",
   "metadata": {},
   "source": [
    "Recording optimal parameters for further use. "
   ]
  },
  {
   "cell_type": "code",
   "execution_count": null,
   "metadata": {},
   "outputs": [],
   "source": [
    "new_line = list(theta) + ['1999:2005, 0.7', '1999:2005, 0.3', 0.432072730, 'shuffle, '+city ]\n",
    "pd_new_line = pd.DataFrame([new_line], columns = opt_param.columns)\n",
    "opt_param = opt_param.append(pd_new_line, ignore_index=True)\n",
    "opt_param.to_pickle('opt_param.pkl')"
   ]
  },
  {
   "cell_type": "markdown",
   "metadata": {},
   "source": [
    "## Interpreting the parameters"
   ]
  },
  {
   "cell_type": "markdown",
   "metadata": {},
   "source": [
    "The optimal parameters are "
   ]
  },
  {
   "cell_type": "code",
   "execution_count": 20,
   "metadata": {},
   "outputs": [
    {
     "name": "stdout",
     "output_type": "stream",
     "text": [
      "l_time =  35.0405309797\n",
      "l_mat =  499.910082136\n",
      "p =  52.6000843692\n",
      "l_per =  3.14964617106\n",
      "sig2_time =  0.87374609908\n",
      "sig2_per =  2.20952263241\n",
      "sig2_cli =  1.00005902438e-05\n",
      "l_ndvi_ne = 1.40904062282\n",
      "l_ndvi_nw = 1.10265026929\n",
      "l_ndvi_se = 1.37794238212\n",
      "l_ndvi_sw = 1.22672472569\n",
      "l_precipitation_amt_mm = 1.21435703814\n",
      "l_reanalysis_air_temp_c = 1.28782177233\n",
      "l_reanalysis_avg_temp_c = 1.15303559539\n",
      "l_reanalysis_dew_point_temp_c = 1.14832317818\n",
      "l_reanalysis_max_air_temp_c = 1.33278329481\n",
      "l_reanalysis_min_air_temp_c = 1.31975927386\n",
      "l_reanalysis_precip_amt_kg_per_m2 = 1.22738253172\n",
      "l_reanalysis_relative_humidity_percent = 1.1377224794\n",
      "l_reanalysis_specific_humidity_g_per_kg = 1.40598377918\n",
      "l_reanalysis_tdtr_k = 1.15423774916\n",
      "l_station_avg_temp_c = 1.06710512839\n",
      "l_station_diur_temp_rng_c = 1.01395478545\n",
      "l_station_max_temp_c = 1.2448232659\n",
      "l_station_min_temp_c = 1.19177313299\n",
      "l_station_precip_mm = 1.25660328598\n"
     ]
    }
   ],
   "source": [
    "l2_time = theta[:n_time]\n",
    "sig2 = theta[n_time:n_time+n_sig2]\n",
    "l2_cli = theta[n_time+n_sig2:]\n",
    "print('l_time = ', l2_time[0])\n",
    "print('l_mat = ', l2_time[1])\n",
    "print('p = ', l2_time[2])\n",
    "print('l_per = ', l2_time[3])\n",
    "print('sig2_time = ', sig2[0])\n",
    "print('sig2_per = ', sig2[1])\n",
    "print('sig2_cli = ', sig2[2])\n",
    "for i in range(d):\n",
    "    print('l_' + features[i][1] + ' =', np.sqrt(l2_cli[i]))"
   ]
  },
  {
   "cell_type": "markdown",
   "metadata": {},
   "source": [
    "One sees that the weight $\\sigma_{cli}^2$ of the climate variables is almost negligible! Surprising, but can explained in the following way:\n",
    "\n",
    "Climate in San Juan and Iquitos (or in most places on earth) exhibits a yearly periodicity, thus climate is already \"encoded\" in the periodic part of the kernel. \n",
    "\n",
    "Thus most important feature predict the number of cases is just the date!\n",
    "\n",
    "Model not as performant for Iquitos?"
   ]
  },
  {
   "cell_type": "markdown",
   "metadata": {},
   "source": [
    "## Further directions"
   ]
  },
  {
   "cell_type": "markdown",
   "metadata": {},
   "source": [
    "Use sparse method to speed up calculations"
   ]
  },
  {
   "cell_type": "code",
   "execution_count": null,
   "metadata": {},
   "outputs": [],
   "source": []
  },
  {
   "cell_type": "code",
   "execution_count": null,
   "metadata": {},
   "outputs": [],
   "source": [
    "t = np.linspace(0,10, 1000)\n",
    "plt.plot(t, Matern(t, 1.0))\n",
    "plt.show()"
   ]
  },
  {
   "cell_type": "code",
   "execution_count": null,
   "metadata": {},
   "outputs": [],
   "source": [
    "t = np.linspace(0,10, 1000)\n",
    "plt.plot(t, TimeCov(t, [1.0, 0.4, 0.1]))\n",
    "plt.show()"
   ]
  }
 ],
 "metadata": {
  "kernelspec": {
   "display_name": "Python 3",
   "language": "python",
   "name": "python3"
  },
  "language_info": {
   "codemirror_mode": {
    "name": "ipython",
    "version": 3
   },
   "file_extension": ".py",
   "mimetype": "text/x-python",
   "name": "python",
   "nbconvert_exporter": "python",
   "pygments_lexer": "ipython3",
   "version": "3.6.0"
  }
 },
 "nbformat": 4,
 "nbformat_minor": 2
}
